{
  "nbformat": 4,
  "nbformat_minor": 0,
  "metadata": {
    "colab": {
      "provenance": [],
      "gpuType": "T4",
      "include_colab_link": true
    },
    "kernelspec": {
      "name": "python3",
      "display_name": "Python 3"
    },
    "language_info": {
      "name": "python"
    },
    "accelerator": "GPU"
  },
  "cells": [
    {
      "cell_type": "markdown",
      "metadata": {
        "id": "view-in-github",
        "colab_type": "text"
      },
      "source": [
        "<a href=\"https://colab.research.google.com/github/HST0077/Financial-Engineering-Python/blob/main/Quantlib01.ipynb\" target=\"_parent\"><img src=\"https://colab.research.google.com/assets/colab-badge.svg\" alt=\"Open In Colab\"/></a>"
      ]
    },
    {
      "cell_type": "markdown",
      "source": [
        "![image.png](data:image/png;base64,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)"
      ],
      "metadata": {
        "id": "gpv-HzMvKyaK"
      }
    },
    {
      "cell_type": "code",
      "source": [
        "# QuantLib 설치\n",
        "!pip install QuantLib-Python"
      ],
      "metadata": {
        "id": "h9zYOOvULDIn",
        "outputId": "ffa02bf7-b526-4665-f4bb-f094a13bc29d",
        "colab": {
          "base_uri": "https://localhost:8080/",
          "height": 318
        }
      },
      "execution_count": 6,
      "outputs": [
        {
          "output_type": "error",
          "ename": "NotImplementedError",
          "evalue": "A UTF-8 locale is required. Got ANSI_X3.4-1968",
          "traceback": [
            "\u001b[0;31m---------------------------------------------------------------------------\u001b[0m",
            "\u001b[0;31mNotImplementedError\u001b[0m                       Traceback (most recent call last)",
            "\u001b[0;32m<ipython-input-6-eeacef0094af>\u001b[0m in \u001b[0;36m<cell line: 2>\u001b[0;34m()\u001b[0m\n\u001b[1;32m      1\u001b[0m \u001b[0;31m# QuantLib 설치\u001b[0m\u001b[0;34m\u001b[0m\u001b[0;34m\u001b[0m\u001b[0m\n\u001b[0;32m----> 2\u001b[0;31m \u001b[0mget_ipython\u001b[0m\u001b[0;34m(\u001b[0m\u001b[0;34m)\u001b[0m\u001b[0;34m.\u001b[0m\u001b[0msystem\u001b[0m\u001b[0;34m(\u001b[0m\u001b[0;34m'pip install QuantLib-Python'\u001b[0m\u001b[0;34m)\u001b[0m\u001b[0;34m\u001b[0m\u001b[0;34m\u001b[0m\u001b[0m\n\u001b[0m",
            "\u001b[0;32m/usr/local/lib/python3.10/dist-packages/google/colab/_shell.py\u001b[0m in \u001b[0;36msystem\u001b[0;34m(self, *args, **kwargs)\u001b[0m\n\u001b[1;32m     97\u001b[0m       \u001b[0mkwargs\u001b[0m\u001b[0;34m.\u001b[0m\u001b[0mupdate\u001b[0m\u001b[0;34m(\u001b[0m\u001b[0;34m{\u001b[0m\u001b[0;34m'also_return_output'\u001b[0m\u001b[0;34m:\u001b[0m \u001b[0;32mTrue\u001b[0m\u001b[0;34m}\u001b[0m\u001b[0;34m)\u001b[0m\u001b[0;34m\u001b[0m\u001b[0;34m\u001b[0m\u001b[0m\n\u001b[1;32m     98\u001b[0m \u001b[0;34m\u001b[0m\u001b[0m\n\u001b[0;32m---> 99\u001b[0;31m     \u001b[0moutput\u001b[0m \u001b[0;34m=\u001b[0m \u001b[0m_system_commands\u001b[0m\u001b[0;34m.\u001b[0m\u001b[0m_system_compat\u001b[0m\u001b[0;34m(\u001b[0m\u001b[0mself\u001b[0m\u001b[0;34m,\u001b[0m \u001b[0;34m*\u001b[0m\u001b[0margs\u001b[0m\u001b[0;34m,\u001b[0m \u001b[0;34m**\u001b[0m\u001b[0mkwargs\u001b[0m\u001b[0;34m)\u001b[0m  \u001b[0;31m# pylint:disable=protected-access\u001b[0m\u001b[0;34m\u001b[0m\u001b[0;34m\u001b[0m\u001b[0m\n\u001b[0m\u001b[1;32m    100\u001b[0m \u001b[0;34m\u001b[0m\u001b[0m\n\u001b[1;32m    101\u001b[0m     \u001b[0;32mif\u001b[0m \u001b[0mpip_warn\u001b[0m\u001b[0;34m:\u001b[0m\u001b[0;34m\u001b[0m\u001b[0;34m\u001b[0m\u001b[0m\n",
            "\u001b[0;32m/usr/local/lib/python3.10/dist-packages/google/colab/_system_commands.py\u001b[0m in \u001b[0;36m_system_compat\u001b[0;34m(shell, cmd, also_return_output)\u001b[0m\n\u001b[1;32m    452\u001b[0m   \u001b[0;31m# is expected to call this function, thus adding one level of nesting to the\u001b[0m\u001b[0;34m\u001b[0m\u001b[0;34m\u001b[0m\u001b[0m\n\u001b[1;32m    453\u001b[0m   \u001b[0;31m# stack.\u001b[0m\u001b[0;34m\u001b[0m\u001b[0;34m\u001b[0m\u001b[0m\n\u001b[0;32m--> 454\u001b[0;31m   result = _run_command(\n\u001b[0m\u001b[1;32m    455\u001b[0m       \u001b[0mshell\u001b[0m\u001b[0;34m.\u001b[0m\u001b[0mvar_expand\u001b[0m\u001b[0;34m(\u001b[0m\u001b[0mcmd\u001b[0m\u001b[0;34m,\u001b[0m \u001b[0mdepth\u001b[0m\u001b[0;34m=\u001b[0m\u001b[0;36m2\u001b[0m\u001b[0;34m)\u001b[0m\u001b[0;34m,\u001b[0m \u001b[0mclear_streamed_output\u001b[0m\u001b[0;34m=\u001b[0m\u001b[0;32mFalse\u001b[0m\u001b[0;34m\u001b[0m\u001b[0;34m\u001b[0m\u001b[0m\n\u001b[1;32m    456\u001b[0m   )\n",
            "\u001b[0;32m/usr/local/lib/python3.10/dist-packages/google/colab/_system_commands.py\u001b[0m in \u001b[0;36m_run_command\u001b[0;34m(cmd, clear_streamed_output)\u001b[0m\n\u001b[1;32m    166\u001b[0m     \u001b[0mlocale_encoding\u001b[0m \u001b[0;34m=\u001b[0m \u001b[0mlocale\u001b[0m\u001b[0;34m.\u001b[0m\u001b[0mgetpreferredencoding\u001b[0m\u001b[0;34m(\u001b[0m\u001b[0;34m)\u001b[0m\u001b[0;34m\u001b[0m\u001b[0;34m\u001b[0m\u001b[0m\n\u001b[1;32m    167\u001b[0m     \u001b[0;32mif\u001b[0m \u001b[0mlocale_encoding\u001b[0m \u001b[0;34m!=\u001b[0m \u001b[0m_ENCODING\u001b[0m\u001b[0;34m:\u001b[0m\u001b[0;34m\u001b[0m\u001b[0;34m\u001b[0m\u001b[0m\n\u001b[0;32m--> 168\u001b[0;31m       raise NotImplementedError(\n\u001b[0m\u001b[1;32m    169\u001b[0m           \u001b[0;34m'A UTF-8 locale is required. Got {}'\u001b[0m\u001b[0;34m.\u001b[0m\u001b[0mformat\u001b[0m\u001b[0;34m(\u001b[0m\u001b[0mlocale_encoding\u001b[0m\u001b[0;34m)\u001b[0m\u001b[0;34m\u001b[0m\u001b[0;34m\u001b[0m\u001b[0m\n\u001b[1;32m    170\u001b[0m       )\n",
            "\u001b[0;31mNotImplementedError\u001b[0m: A UTF-8 locale is required. Got ANSI_X3.4-1968"
          ]
        }
      ]
    },
    {
      "cell_type": "code",
      "execution_count": 3,
      "metadata": {
        "id": "30Wa8ZaVCxMX",
        "outputId": "5c5b8b4e-6f91-4fb5-e674-c69ba479bc19",
        "colab": {
          "base_uri": "https://localhost:8080/"
        }
      },
      "outputs": [
        {
          "output_type": "stream",
          "name": "stdout",
          "text": [
            "April 9th, 2024\n"
          ]
        }
      ],
      "source": [
        "from QuantLib import Date\n",
        "import datetime\n",
        "\n",
        "# 현재 날짜 설정 방법 1 (datetime 이용)\n",
        "current_date = datetime.date.today()\n",
        "\n",
        "# QuantLib의 Date 객체로 변환\n",
        "ql_current_date = Date(current_date.day,\n",
        "                       current_date.month,\n",
        "                       current_date.year)\n",
        "print(ql_current_date)"
      ]
    },
    {
      "cell_type": "code",
      "source": [
        "# Date object 사용법 Date(날짜, 월, 년도)\n",
        "import QuantLib as ql\n",
        "date=ql.Date(18,3,2024)\n",
        "print(date)"
      ],
      "metadata": {
        "id": "F4OqVTCbKzE2",
        "outputId": "7150d7bd-b0df-45f1-e3c3-035d37db0b91",
        "colab": {
          "base_uri": "https://localhost:8080/"
        }
      },
      "execution_count": 5,
      "outputs": [
        {
          "output_type": "stream",
          "name": "stdout",
          "text": [
            "March 18th, 2024\n"
          ]
        }
      ]
    },
    {
      "cell_type": "code",
      "source": [
        "# 현재 날짜 설정 방법 2 (QuantLib이용)\n",
        "import QuantLib as ql\n",
        "ql_current_date=ql.Date.todaysDate()\n",
        "print(ql_current_date)"
      ],
      "metadata": {
        "id": "9WrWldtILR-V",
        "outputId": "b58f202e-b342-4781-9f35-a18523b3b333",
        "colab": {
          "base_uri": "https://localhost:8080/"
        }
      },
      "execution_count": 6,
      "outputs": [
        {
          "output_type": "stream",
          "name": "stdout",
          "text": [
            "April 9th, 2024\n"
          ]
        }
      ]
    },
    {
      "cell_type": "code",
      "source": [
        "from QuantLib import Period, Weeks, Months, Years\n",
        "# Period module 이용\n",
        "# Period는 단순 날짜 계산만 한다. 즉, 영업일 고려 없음\n",
        "print('Add 10 days:',date+10)\n",
        "print('Add 3 weeks:',date+Period(3,Weeks))\n",
        "print('Add 5 months:',date+Period(5,Months))\n",
        "print('Add 2 years: ',date+Period(2,Years))"
      ],
      "metadata": {
        "id": "GvJuPuUILZHd",
        "outputId": "4f0d3727-5f19-45a0-ea22-a29486957482",
        "colab": {
          "base_uri": "https://localhost:8080/"
        }
      },
      "execution_count": 7,
      "outputs": [
        {
          "output_type": "stream",
          "name": "stdout",
          "text": [
            "Add 10 days: March 28th, 2024\n",
            "Add 3 weeks: April 8th, 2024\n",
            "Add 5 months: August 18th, 2024\n",
            "Add 2 years:  March 18th, 2026\n"
          ]
        }
      ]
    },
    {
      "cell_type": "markdown",
      "source": [
        "![image.png](data:image/png;base64,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)"
      ],
      "metadata": {
        "id": "ns679TyuLhd0"
      }
    },
    {
      "cell_type": "code",
      "source": [
        "import QuantLib as ql\n",
        "# 2년 후의 대한민국 영업일 기준 날짜\n",
        "kr_cal=ql.SouthKorea() # 대한민국 캘린더 설정\n",
        "date=ql.Date(9,3,2024)\n",
        "period=ql.Period(1, Weeks) # 1주일 시간간격 설정\n",
        "# ql.Preceding으로 지정하지 않으면 직전 영업일로 이동\n",
        "# ql.Following (직후 영업일 출력, 디폴트값)\n",
        "kr_date_preceding=kr_cal.advance(date,period,ql.Preceding)\n",
        "kr_date_following=kr_cal.advance(date,period)\n",
        "print('1주일후 직전 영업일 날짜:',kr_date_preceding)\n",
        "print('1주일후 직후 영업일 날짜:',kr_date_following)"
      ],
      "metadata": {
        "id": "-S_3lApoLeU8",
        "outputId": "d2ca563f-70d7-487a-b780-aecc1b115cfc",
        "colab": {
          "base_uri": "https://localhost:8080/"
        }
      },
      "execution_count": 8,
      "outputs": [
        {
          "output_type": "stream",
          "name": "stdout",
          "text": [
            "1주일후 직전 영업일 날짜: March 15th, 2024\n",
            "1주일후 직후 영업일 날짜: March 18th, 2024\n"
          ]
        }
      ]
    },
    {
      "cell_type": "code",
      "source": [
        "date=ql.Date(30,5,2024)\n",
        "period=ql.Period(1, ql.Months)\n",
        "kr_date_following=kr_cal.advance(date,period,ql.Following)\n",
        "'''\n",
        "계약 날짜가 비영업일로 이동될 때 해당 월을 넘어가는 경우,\n",
        "대신 이전 영업일로 날짜가 조정됨\n",
        "즉, ql.ModifiedFollowing은 월을 넘기지 않는 범위 내에서\n",
        " 다음 영업일로 날짜를 이동시킵니다.\n",
        "'''\n",
        "kr_date_Mfollowing=kr_cal.advance(date,period,ql.ModifiedFollowing)\n",
        "print('1달후 영업일 날짜:',kr_date_following)\n",
        "print('1달후 영업일 날짜:',kr_date_Mfollowing)"
      ],
      "metadata": {
        "id": "mA4DBVh3LohN",
        "outputId": "ced944b6-be39-4531-cf27-ae14d4401797",
        "colab": {
          "base_uri": "https://localhost:8080/"
        }
      },
      "execution_count": 10,
      "outputs": [
        {
          "output_type": "stream",
          "name": "stdout",
          "text": [
            "1달후 영업일 날짜: July 1st, 2024\n",
            "1달후 영업일 날짜: June 28th, 2024\n"
          ]
        }
      ]
    },
    {
      "cell_type": "code",
      "source": [
        "# 대한민국에서 주어진 날짜의 영업일 수 계산\n",
        "date=ql.Date(9,3,2024)\n",
        "T_date=Date(9,3,2025)\n",
        "kr_biz_days=kr_cal.businessDaysBetween(date,T_date)\n",
        "print(date, '에서 ', T_date, '까지의 영업일수: ', kr_biz_days)"
      ],
      "metadata": {
        "id": "GJDRhaepLw4t",
        "outputId": "3734ddb9-b681-4aa5-d3f7-7c2ac9f3820a",
        "colab": {
          "base_uri": "https://localhost:8080/"
        }
      },
      "execution_count": 12,
      "outputs": [
        {
          "output_type": "stream",
          "name": "stdout",
          "text": [
            "March 9th, 2024 에서  March 9th, 2025 까지의 영업일수:  242\n"
          ]
        }
      ]
    },
    {
      "cell_type": "code",
      "source": [
        "# 주의할 점\n",
        "today = ql.Date(29,3,2024)\n",
        "# 날짜 객체로 생성\n",
        "ql.Settings.instance().evaluationDate=today # 프라이싱 날짜 픽싱\n",
        "kr_cal=ql.SouthKorea()\n",
        "\n",
        "print('현재 날짜:',today)\n",
        "dD=ql.Period(1,ql.Days)\n",
        "D1=today+dD\n",
        "print('하루 후 날짜:',D1)\n",
        "D2=kr_cal.advance(today,dD)\n",
        "print('캘린더 상 하루 후 날짜:',D2)"
      ],
      "metadata": {
        "id": "R-OschRHMP8M",
        "outputId": "f31ae584-f25d-4340-af51-e5bb04d69ed5",
        "colab": {
          "base_uri": "https://localhost:8080/"
        }
      },
      "execution_count": 13,
      "outputs": [
        {
          "output_type": "stream",
          "name": "stdout",
          "text": [
            "현재 날짜: March 29th, 2024\n",
            "하루 후 날짜: March 30th, 2024\n",
            "캘린더 상 하루 후 날짜: April 1st, 2024\n"
          ]
        }
      ]
    },
    {
      "cell_type": "code",
      "source": [
        "# 한 달 후 날짜\n",
        "dD=ql.Period(1,ql.Months)\n",
        "D1=today+dD\n",
        "print('1개월 후 날짜:',D1)\n",
        "D2=kr_cal.advance(today,dD)\n",
        "print('캘린더 상 1개월 후 날짜:',D2)"
      ],
      "metadata": {
        "id": "ymykqoLiMjic",
        "outputId": "a27f6d43-f43b-4535-9396-01ba92aab418",
        "colab": {
          "base_uri": "https://localhost:8080/"
        }
      },
      "execution_count": 14,
      "outputs": [
        {
          "output_type": "stream",
          "name": "stdout",
          "text": [
            "1개월 후 날짜: April 29th, 2024\n",
            "캘린더 상 1개월 후 날짜: April 29th, 2024\n"
          ]
        }
      ]
    },
    {
      "cell_type": "markdown",
      "source": [
        "![image.png](data:image/png;base64,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)"
      ],
      "metadata": {
        "id": "MlDtt8xHMrbg"
      }
    },
    {
      "cell_type": "code",
      "source": [
        "t1=ql.Date(1,3,2024)\n",
        "t2=ql.Date(30,4,2024)\n",
        "kr_cal.holidayList(t1,t2)"
      ],
      "metadata": {
        "id": "xCgTxB9RMl1k",
        "outputId": "bae70e5f-7e78-4308-8726-9b2843b1cdf2",
        "colab": {
          "base_uri": "https://localhost:8080/"
        }
      },
      "execution_count": 15,
      "outputs": [
        {
          "output_type": "execute_result",
          "data": {
            "text/plain": [
              "(Date(1,3,2024), Date(10,4,2024))"
            ]
          },
          "metadata": {},
          "execution_count": 15
        }
      ]
    },
    {
      "cell_type": "code",
      "source": [
        "t1=ql.Date(1,1,2024)\n",
        "t2=ql.Date(31,12,2024)\n",
        "kr_cal.holidayList(t1,t2)"
      ],
      "metadata": {
        "id": "83xQT65XMwzW",
        "outputId": "f273c2bd-7975-45f2-999d-bc09e24d0569",
        "colab": {
          "base_uri": "https://localhost:8080/"
        }
      },
      "execution_count": 16,
      "outputs": [
        {
          "output_type": "execute_result",
          "data": {
            "text/plain": [
              "(Date(1,1,2024),\n",
              " Date(9,2,2024),\n",
              " Date(12,2,2024),\n",
              " Date(1,3,2024),\n",
              " Date(10,4,2024),\n",
              " Date(1,5,2024),\n",
              " Date(6,5,2024),\n",
              " Date(15,5,2024),\n",
              " Date(6,6,2024),\n",
              " Date(15,8,2024),\n",
              " Date(16,9,2024),\n",
              " Date(17,9,2024),\n",
              " Date(18,9,2024),\n",
              " Date(3,10,2024),\n",
              " Date(9,10,2024),\n",
              " Date(25,12,2024),\n",
              " Date(31,12,2024))"
            ]
          },
          "metadata": {},
          "execution_count": 16
        }
      ]
    },
    {
      "cell_type": "code",
      "source": [
        "Date(15,8,2024).weekday()"
      ],
      "metadata": {
        "id": "mPrpvhu4M2Zt",
        "outputId": "7299a87b-8ef8-4d58-ef76-098d83b67ac9",
        "colab": {
          "base_uri": "https://localhost:8080/"
        }
      },
      "execution_count": 17,
      "outputs": [
        {
          "output_type": "execute_result",
          "data": {
            "text/plain": [
              "5"
            ]
          },
          "metadata": {},
          "execution_count": 17
        }
      ]
    },
    {
      "cell_type": "code",
      "source": [
        "import datetime\n",
        "datetime.date(2024, 8, 15).strftime('%A')"
      ],
      "metadata": {
        "id": "aTCOoPbpM-8F",
        "outputId": "82291490-d67f-47fc-8609-cfcc13fd8c63",
        "colab": {
          "base_uri": "https://localhost:8080/",
          "height": 35
        }
      },
      "execution_count": 18,
      "outputs": [
        {
          "output_type": "execute_result",
          "data": {
            "text/plain": [
              "'Thursday'"
            ],
            "application/vnd.google.colaboratory.intrinsic+json": {
              "type": "string"
            }
          },
          "metadata": {},
          "execution_count": 18
        }
      ]
    },
    {
      "cell_type": "code",
      "source": [
        "import QuantLib as ql\n",
        "\n",
        "# 한국 달력 생성\n",
        "kr_cal = ql.SouthKorea()\n",
        "\n",
        "# 2020년부터 2030년까지의 날짜 설정\n",
        "start_date = ql.Date(1, 1, 2020)\n",
        "end_date = ql.Date(31, 12, 2030)\n",
        "\n",
        "# 휴일 개수 리턴\n",
        "Ncal=len(kr_cal.holidayList(start_date,end_date))\n",
        "\n",
        "# 토요일과 일요일이 아닌 휴일 출력\n",
        "non_weekend_holidays = [date for date in kr_cal.holidayList(start_date, end_date)\n",
        "                        if date.weekday() not in [7, 1]]\n",
        "\n",
        "print(\"2020년부터 2030년까지의 휴일 개수:\",Ncal)\n",
        "print(\"2020년부터 2030년까지의 휴일 개수 중 주말 제외:\",len(non_weekend_holidays))"
      ],
      "metadata": {
        "id": "H_8WbugGNAw9",
        "outputId": "eba9b7ad-fe99-48f5-8425-b58f17c93d80",
        "colab": {
          "base_uri": "https://localhost:8080/"
        }
      },
      "execution_count": 19,
      "outputs": [
        {
          "output_type": "stream",
          "name": "stdout",
          "text": [
            "2020년부터 2030년까지의 휴일 개수: 167\n",
            "2020년부터 2030년까지의 휴일 개수 중 주말 제외: 167\n"
          ]
        }
      ]
    },
    {
      "cell_type": "code",
      "source": [
        "t1=ql.Date(1,3,2024)\n",
        "t2=ql.Date(30,4,2024)\n",
        "kr_cal.businessDaysBetween(t1,t2)"
      ],
      "metadata": {
        "id": "4FrwnxRlNJZU",
        "outputId": "f076c8a6-c7f8-43e7-e3aa-fdcf33b6fdba",
        "colab": {
          "base_uri": "https://localhost:8080/"
        }
      },
      "execution_count": 20,
      "outputs": [
        {
          "output_type": "execute_result",
          "data": {
            "text/plain": [
              "40"
            ]
          },
          "metadata": {},
          "execution_count": 20
        }
      ]
    },
    {
      "cell_type": "code",
      "source": [
        "# 임시휴일을 추가해 보자\n",
        "kr_cal.addHoliday(Date(11,4,2024))\n",
        "kr_cal.businessDaysBetween(t1,t2)"
      ],
      "metadata": {
        "id": "EPmAv6UXNPtU",
        "outputId": "8b0ec64e-8418-4210-f1d6-8c8259d7bf39",
        "colab": {
          "base_uri": "https://localhost:8080/"
        }
      },
      "execution_count": 21,
      "outputs": [
        {
          "output_type": "execute_result",
          "data": {
            "text/plain": [
              "39"
            ]
          },
          "metadata": {},
          "execution_count": 21
        }
      ]
    },
    {
      "cell_type": "code",
      "source": [
        "# 특정 휴일 삭제\n",
        "kr_cal.removeHoliday(Date(11,4,2024))\n",
        "kr_cal.businessDaysBetween(t1,t2)"
      ],
      "metadata": {
        "id": "MRBGWWQSNRWt",
        "outputId": "79a8de2d-96b5-4e1c-93e2-df4da44f145b",
        "colab": {
          "base_uri": "https://localhost:8080/"
        }
      },
      "execution_count": 22,
      "outputs": [
        {
          "output_type": "execute_result",
          "data": {
            "text/plain": [
              "40"
            ]
          },
          "metadata": {},
          "execution_count": 22
        }
      ]
    },
    {
      "cell_type": "markdown",
      "source": [
        "![image.png](data:image/png;base64,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)"
      ],
      "metadata": {
        "id": "5xm5d6JQNXR5"
      }
    },
    {
      "cell_type": "code",
      "source": [
        "import QuantLib as ql\n",
        "\n",
        "# 캘린더 정보 읽어오기\n",
        "jpn_cal=ql.Japan()\n",
        "kr_cal=ql.SouthKorea()\n",
        "# 미국은 NYSE,SOFR 등 기초자산에 따라\n",
        "# 추가 매개변수 지정 필요\n",
        "us_cal=ql.UnitedStates(ql.UnitedStates.SOFR)"
      ],
      "metadata": {
        "id": "KN5u4tepNTmF"
      },
      "execution_count": 23,
      "outputs": []
    },
    {
      "cell_type": "code",
      "source": [
        "# 각 나라의 거래 휴일을 결합시켜보자\n",
        "D1=ql.Date(1,1,2024)\n",
        "D2=ql.Date(31,12,2024)\n",
        "J_cal=ql.JointCalendar(jpn_cal, us_cal, kr_cal)\n",
        "\n",
        "print('일본의 영업일수:{0}'.format(jpn_cal.businessDaysBetween(D1,D2)))\n",
        "print('미국의 영업일수:{0}'.format(us_cal.businessDaysBetween(D1,D2)))\n",
        "print('대한민국의 영업일수:{0}'.format(kr_cal.businessDaysBetween(D1,D2)))\n",
        "print('3국의 결합 영업일수:{0}'.format(J_cal.businessDaysBetween(D1,D2)))"
      ],
      "metadata": {
        "id": "Q1u_wfbRNbY1",
        "outputId": "71ab08f4-e9ce-4682-e9c9-5b0e427492a9",
        "colab": {
          "base_uri": "https://localhost:8080/"
        }
      },
      "execution_count": 24,
      "outputs": [
        {
          "output_type": "stream",
          "name": "stdout",
          "text": [
            "일본의 영업일수:245\n",
            "미국의 영업일수:249\n",
            "대한민국의 영업일수:245\n",
            "3국의 결합 영업일수:224\n"
          ]
        }
      ]
    },
    {
      "cell_type": "markdown",
      "source": [
        "![image.png](data:image/png;base64,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)"
      ],
      "metadata": {
        "id": "uRg2nuxkNidZ"
      }
    },
    {
      "cell_type": "code",
      "source": [
        "#2024년 4월 1일부터 3년 6개월 스텝다운 날짜 생성하기\n",
        "from QuantLib import Date, Period, SouthKorea, Schedule\n",
        "from QuantLib import Following, DateGeneration, Months\n",
        "\n",
        "effective_date=Date(1,4,2024) # 유효시작날짜\n",
        "termination_date=Date(1,4,2027) # 만기날짜\n",
        "tenor=Period(6,Months) # 6개월마다\n",
        "calendar=SouthKorea() # 대한민국 달력사용\n",
        "business_convention=Following # 휴일과 겹치면 다음 영업일\n",
        "termination_business_convention=Following # 만기날짜가 휴일이면 다음 영업일\n",
        "# DateGeneration.forward면 시작날짜부터 tenor마다 뒤로 가면서 날짜를 찾는 것이고\n",
        "# backward면 만기날짜부터 tenor마다 앞으로 오면서 날짜를 찾는 것임\n",
        "date_generation=DateGeneration.Forward\n",
        "end_of_month=False # True면 날짜의 달의 마지막 날짜로 조정\n",
        "\n",
        "ss=Schedule(effective_date,\n",
        "            termination_date,\n",
        "            tenor,\n",
        "            calendar,\n",
        "            business_convention,\n",
        "            termination_business_convention,\n",
        "            date_generation,\n",
        "            end_of_month)"
      ],
      "metadata": {
        "id": "vPOVISjiNeOt"
      },
      "execution_count": 25,
      "outputs": []
    },
    {
      "cell_type": "code",
      "source": [
        "for i,date in enumerate(ss):\n",
        "    # i는 순서 (0부터 시작)\n",
        "    # d는 ss에 들어 있는 날짜\n",
        "    print(i+1,date)"
      ],
      "metadata": {
        "id": "ZZysmtx6Nlyd",
        "outputId": "91936cf2-da15-4ffd-b2ed-5692904e9253",
        "colab": {
          "base_uri": "https://localhost:8080/"
        }
      },
      "execution_count": 26,
      "outputs": [
        {
          "output_type": "stream",
          "name": "stdout",
          "text": [
            "1 April 1st, 2024\n",
            "2 October 1st, 2024\n",
            "3 April 1st, 2025\n",
            "4 October 1st, 2025\n",
            "5 April 1st, 2026\n",
            "6 October 1st, 2026\n",
            "7 April 1st, 2027\n"
          ]
        }
      ]
    },
    {
      "cell_type": "markdown",
      "source": [
        "![image.png](data:image/png;base64,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)"
      ],
      "metadata": {
        "id": "NzrNntqGNzLv"
      }
    },
    {
      "cell_type": "code",
      "source": [
        "import QuantLib as ql\n",
        "\n",
        "# Actual/360 날짜 계산 방법을 사용하여 날짜 간의 차이 계산\n",
        "start_date = ql.Date(1, 1, 2024)\n",
        "end_date = ql.Date(31, 12, 2025)\n",
        "actual360 = ql.Actual360()\n",
        "\n",
        "days_actual360 = actual360.dayCount(start_date, end_date)\n",
        "print(\"Actual/360로 계산된 날짜 간의 차이:\", days_actual360)\n",
        "\n",
        "# 30/360 날짜 계산 방법을 사용하여 날짜 간의 차이 계산\n",
        "thirty360 = ql.Thirty360(ql.Thirty360.European)\n",
        "\n",
        "days_thirty360 = thirty360.dayCount(start_date, end_date)\n",
        "print(\"30/360으로 계산된 날짜 간의 차이:\", days_thirty360)"
      ],
      "metadata": {
        "id": "vHK_Av2iNqRF",
        "outputId": "9f733322-5058-4074-c03a-eba87c5a0468",
        "colab": {
          "base_uri": "https://localhost:8080/"
        }
      },
      "execution_count": 27,
      "outputs": [
        {
          "output_type": "stream",
          "name": "stdout",
          "text": [
            "Actual/360로 계산된 날짜 간의 차이: 730\n",
            "30/360으로 계산된 날짜 간의 차이: 719\n"
          ]
        }
      ]
    },
    {
      "cell_type": "code",
      "source": [
        "# Actual/Actual 날짜 계산 방법을 사용하여 날짜 간의 차이 계산\n",
        "actual_actual = ql.ActualActual(ql.ActualActual.ISMA)\n",
        "\n",
        "days_actual_actual = actual_actual.dayCount(start_date, end_date)\n",
        "print(\"Actual/Actual로 계산된 날짜 간의 차이:\", days_actual_actual)"
      ],
      "metadata": {
        "id": "BDGaqRI0N4ol",
        "outputId": "47d51cc8-beb4-4f23-b575-a1069fb731c2",
        "colab": {
          "base_uri": "https://localhost:8080/"
        }
      },
      "execution_count": 28,
      "outputs": [
        {
          "output_type": "stream",
          "name": "stdout",
          "text": [
            "Actual/Actual로 계산된 날짜 간의 차이: 730\n"
          ]
        }
      ]
    },
    {
      "cell_type": "code",
      "source": [
        "# 금리 계산\n",
        "annual_interest_rate = 0.20\n",
        "\n",
        "start_date = ql.Date(1, 1, 2024)\n",
        "end_date = ql.Date(15, 7, 2025)\n",
        "\n",
        "# ActualActual을 사용하여 연간 이자 계산\n",
        "actual_actual_day_counter =ql.ActualActual(ql.ActualActual.ISMA)\n",
        "actual_actual_interest = annual_interest_rate * actual_actual_day_counter.yearFraction(start_date, end_date)\n",
        "print(\"ActualActual을 사용한 연간 이자:\", actual_actual_interest)\n",
        "\n",
        "# Actual/365를 사용하여 연간 이자 계산\n",
        "actual_365_day_counter = ql.Actual365Fixed()\n",
        "actual_365_interest = annual_interest_rate * actual_365_day_counter.yearFraction(start_date, end_date)\n",
        "print(\"Actual/365을 사용한 연간 이자:\", actual_365_interest)\n",
        "\n",
        "# Thirty360을 사용하여 연간 이자 계산\n",
        "thirty360_day_counter = ql.Thirty360(ql.Thirty360.BondBasis)\n",
        "thirty360_interest = annual_interest_rate * thirty360_day_counter.yearFraction(start_date, end_date)\n",
        "print(\"Thirty360을 사용한 연간 이자:\", thirty360_interest)\n",
        "\n",
        "# Actual/360을 사용하여 연간 이자 계산\n",
        "actual_360_day_counter = ql.Actual360()\n",
        "actual_360_interest = annual_interest_rate * actual_360_day_counter.yearFraction(start_date, end_date)\n",
        "print(\"Actual/360을 사용한 연간 이자:\", actual_360_interest)"
      ],
      "metadata": {
        "id": "UD7kBp2WN9Nt",
        "outputId": "ab71d237-b229-46b0-c653-f0aa91f2aec3",
        "colab": {
          "base_uri": "https://localhost:8080/"
        }
      },
      "execution_count": 29,
      "outputs": [
        {
          "output_type": "stream",
          "name": "stdout",
          "text": [
            "ActualActual을 사용한 연간 이자: 0.30000000000000004\n",
            "Actual/365을 사용한 연간 이자: 0.30739726027397263\n",
            "Thirty360을 사용한 연간 이자: 0.3077777777777778\n",
            "Actual/360을 사용한 연간 이자: 0.3116666666666667\n"
          ]
        }
      ]
    },
    {
      "cell_type": "markdown",
      "source": [
        "![image.png](data:image/png;base64,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)"
      ],
      "metadata": {
        "id": "jTcaJc62OGp0"
      }
    },
    {
      "cell_type": "code",
      "source": [
        "# MonteCarlo Simulation을 이용한 직접코딩\n",
        "# 함수로 작성\n",
        "def vanillaMC_call(S,K, r,sig,T,sim):\n",
        "    # S: 현재가\n",
        "    # K: 행사가격\n",
        "    # T: 만기(in years)\n",
        "    # r: 이자율 (연 1%면 0.01로)\n",
        "    # sig: 연변동성 (30%라면 0.3으로)\n",
        "\n",
        "    import cupy as cp\n",
        "    from scipy.stats import norm\n",
        "    import matplotlib.pyplot as plt\n",
        "    # 랜덤 시드 설정\n",
        "    cp.random.seed(77)\n",
        "    N_intervals=352 # 1년을 352로 세팅\n",
        "    N = int(T * N_intervals)  # 만기를 감안한 시간간격의 갯수\n",
        "    dt=T/N # 시간간격\n",
        "    s = cp.sqrt(1 / N_intervals)  # 분산을 표준편차화\n",
        "\n",
        "    # N(0,s)을 따르는 [N, sim] 크기의 정규난수 생성\n",
        "    dW = cp.random.normal(0, s, size=(N, sim))\n",
        "    pars=(r-0.5*sig*sig)*dt+sig*dW\n",
        "    exp_pars=cp.exp(pars)\n",
        "\n",
        "    # 추가할 행 생성\n",
        "    S0 = S*cp.ones((1, dW.shape[1]), dtype=dW.dtype)\n",
        "    W = cp.vstack([S0, exp_pars]) # (N+1,sim)의 행렬로 만든다.\n",
        "\n",
        "    # 시간에 따른 주가행렬 완성\n",
        "    S=cp.cumprod(W,axis=0) # 행으로 계속 누적곱셈으로 행렬 생성\n",
        "\n",
        "    # 옵션 payoff\n",
        "    option=cp.maximum(S[-1]-K,0) # 콜옵션\n",
        "    price=cp.mean(cp.exp(-r*T)*option)\n",
        "    return price"
      ],
      "metadata": {
        "id": "QUlDS0qbOCU9"
      },
      "execution_count": 1,
      "outputs": []
    },
    {
      "cell_type": "code",
      "source": [
        "def Greeks(S,K, r,sig,T,sim):\n",
        "    dp=S*0.01\n",
        "    P0=vanillaMC_call(S,K, r,sig,T,sim)\n",
        "    Pup=vanillaMC_call(S+dp,K, r,sig,T,sim)\n",
        "    Pdn=vanillaMC_call(S-dp,K, r,sig,T,sim)\n",
        "    delta= (Pup-Pdn)/(2*dp)\n",
        "    gamma=(Pup-2*P0+Pdn)/(dp*dp)\n",
        "    Pv=vanillaMC_call(S,K, r,sig+0.01,T,sim)\n",
        "    vega=Pv-P0\n",
        "    Pr=vanillaMC_call(S,K, r+0.0001,sig,T,sim)\n",
        "    rho=Pr-P0\n",
        "    Pt=vanillaMC_call(S,K, r,sig,T-1/365,sim)\n",
        "    theta=Pt-P0\n",
        "    print('델타:',delta)\n",
        "    print('감마:',gamma)\n",
        "    print('1% 베가:',vega)\n",
        "    print('1bp 르호:',rho)\n",
        "    print('1Day 세타:',theta)"
      ],
      "metadata": {
        "id": "c6xHiqs5Qt7-"
      },
      "execution_count": 3,
      "outputs": []
    },
    {
      "cell_type": "code",
      "source": [
        "vanillaMC_call(100,100,0.01,0.2,0.25,500000)"
      ],
      "metadata": {
        "id": "1BWhI9whOTE9",
        "outputId": "9de88271-0b7e-4436-e9c1-69274f2288ff",
        "colab": {
          "base_uri": "https://localhost:8080/"
        }
      },
      "execution_count": 2,
      "outputs": [
        {
          "output_type": "execute_result",
          "data": {
            "text/plain": [
              "array(4.12719188)"
            ]
          },
          "metadata": {},
          "execution_count": 2
        }
      ]
    },
    {
      "cell_type": "code",
      "source": [
        "Greeks(100,100,0.01,0.2,0.25,500000)"
      ],
      "metadata": {
        "id": "PcZe59zvOXU1",
        "outputId": "4ee0c52a-6c0f-4e6c-b8c5-e06e304fff97",
        "colab": {
          "base_uri": "https://localhost:8080/"
        }
      },
      "execution_count": 4,
      "outputs": [
        {
          "output_type": "stream",
          "name": "stdout",
          "text": [
            "델타: 0.5309221014410783\n",
            "감마: 0.039502027067146894\n",
            "1% 베가: 0.19987680607094038\n",
            "1bp 르호: 0.0012244365829880977\n",
            "1Day 세타: -0.024700442997791505\n"
          ]
        }
      ]
    },
    {
      "cell_type": "code",
      "source": [
        "# QuantLib 이용\n",
        "import QuantLib as ql\n",
        "import datetime\n",
        "\n",
        "today=datetime.date.today() # 현재 시스템 날짜\n",
        "# 날짜 객체로 생성\n",
        "today=ql.Date(today.day, today.month, today.year)\n",
        "ql.Settings.instance().evaluationDate=today # 프라이싱 날짜 픽싱"
      ],
      "metadata": {
        "id": "cUUqczNAQweM",
        "outputId": "4f4e7063-e2e4-4b47-b184-82c31f9a91d9",
        "colab": {
          "base_uri": "https://localhost:8080/",
          "height": 404
        }
      },
      "execution_count": 5,
      "outputs": [
        {
          "output_type": "error",
          "ename": "ModuleNotFoundError",
          "evalue": "No module named 'QuantLib'",
          "traceback": [
            "\u001b[0;31m---------------------------------------------------------------------------\u001b[0m",
            "\u001b[0;31mModuleNotFoundError\u001b[0m                       Traceback (most recent call last)",
            "\u001b[0;32m<ipython-input-5-1f384f5fce5f>\u001b[0m in \u001b[0;36m<cell line: 2>\u001b[0;34m()\u001b[0m\n\u001b[1;32m      1\u001b[0m \u001b[0;31m# QuantLib 이용\u001b[0m\u001b[0;34m\u001b[0m\u001b[0;34m\u001b[0m\u001b[0m\n\u001b[0;32m----> 2\u001b[0;31m \u001b[0;32mimport\u001b[0m \u001b[0mQuantLib\u001b[0m \u001b[0;32mas\u001b[0m \u001b[0mql\u001b[0m\u001b[0;34m\u001b[0m\u001b[0;34m\u001b[0m\u001b[0m\n\u001b[0m\u001b[1;32m      3\u001b[0m \u001b[0;32mimport\u001b[0m \u001b[0mdatetime\u001b[0m\u001b[0;34m\u001b[0m\u001b[0;34m\u001b[0m\u001b[0m\n\u001b[1;32m      4\u001b[0m \u001b[0;34m\u001b[0m\u001b[0m\n\u001b[1;32m      5\u001b[0m \u001b[0mtoday\u001b[0m\u001b[0;34m=\u001b[0m\u001b[0mdatetime\u001b[0m\u001b[0;34m.\u001b[0m\u001b[0mdate\u001b[0m\u001b[0;34m.\u001b[0m\u001b[0mtoday\u001b[0m\u001b[0;34m(\u001b[0m\u001b[0;34m)\u001b[0m \u001b[0;31m# 현재 시스템 날짜\u001b[0m\u001b[0;34m\u001b[0m\u001b[0;34m\u001b[0m\u001b[0m\n",
            "\u001b[0;31mModuleNotFoundError\u001b[0m: No module named 'QuantLib'",
            "",
            "\u001b[0;31m---------------------------------------------------------------------------\u001b[0;32m\nNOTE: If your import is failing due to a missing package, you can\nmanually install dependencies using either !pip or !apt.\n\nTo view examples of installing some common dependencies, click the\n\"Open Examples\" button below.\n\u001b[0;31m---------------------------------------------------------------------------\u001b[0m\n"
          ],
          "errorDetails": {
            "actions": [
              {
                "action": "open_url",
                "actionText": "Open Examples",
                "url": "/notebooks/snippets/importing_libraries.ipynb"
              }
            ]
          }
        }
      ]
    },
    {
      "cell_type": "code",
      "source": [],
      "metadata": {
        "id": "1Vgh6qmCRn1s"
      },
      "execution_count": null,
      "outputs": []
    }
  ]
}